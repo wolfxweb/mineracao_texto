{
 "cells": [
  {
   "cell_type": "code",
   "execution_count": 26,
   "metadata": {},
   "outputs": [],
   "source": [
    "import tensorflow as tf\n",
    "import pandas as pd\n",
    "import nltk\n",
    "\n",
    "\n",
    "import csv"
   ]
  },
  {
   "cell_type": "code",
   "execution_count": 50,
   "metadata": {},
   "outputs": [
    {
     "name": "stdout",
     "output_type": "stream",
     "text": [
      "Arquivo CSV 'base.csv' criado com sucesso!\n"
     ]
    }
   ],
   "source": [
    "\n",
    "#Organizando a base de dados em um arquivo csv\n",
    "\n",
    "df_txt = pd.read_csv('base.txt', delimiter='\\t', header=None)\n",
    "\n",
    "nome_arquivo_csv = \"base.csv\"\n",
    "\n",
    "with open(nome_arquivo_csv, mode='w', newline='',encoding='utf-8') as arquivo_csv:\n",
    "    escritor_csv = csv.writer(arquivo_csv, delimiter=',', quotechar='\"',\n",
    "                              quoting=csv.QUOTE_MINIMAL)\n",
    "    # Escrever as linhas no arquivo CSV\n",
    "    for index, row in df_txt.iterrows():\n",
    "        texto = row[0].replace(\"(\", \"\").replace(\")\", \"\").replace(\"'\", \"\")\n",
    "        #print(texto)\n",
    "        posicao_ultima_virgula = texto.rfind(',')\n",
    "        if posicao_ultima_virgula != -1:\n",
    "            dados = texto[:posicao_ultima_virgula] + texto[posicao_ultima_virgula+1:]\n",
    "            #print(dados)\n",
    "            dados = dados.strip()\n",
    "        escritor_csv.writerow(dados.split(','))\n",
    "print(f\"Arquivo CSV '{nome_arquivo_csv}' criado com sucesso!\")\n"
   ]
  }
 ],
 "metadata": {
  "kernelspec": {
   "display_name": "infnet-nn",
   "language": "python",
   "name": "python3"
  },
  "language_info": {
   "codemirror_mode": {
    "name": "ipython",
    "version": 3
   },
   "file_extension": ".py",
   "mimetype": "text/x-python",
   "name": "python",
   "nbconvert_exporter": "python",
   "pygments_lexer": "ipython3",
   "version": "3.10.12"
  },
  "orig_nbformat": 4
 },
 "nbformat": 4,
 "nbformat_minor": 2
}
